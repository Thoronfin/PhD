{
 "cells": [
  {
   "cell_type": "markdown",
   "metadata": {},
   "source": [
    "# Libraries"
   ]
  },
  {
   "cell_type": "code",
   "execution_count": 2,
   "metadata": {},
   "outputs": [],
   "source": [
    "import numpy as np\n",
    "import matplotlib.pyplot as plt\n",
    "from astropy.io import ascii\n",
    "import ipywidgets as widgets\n",
    "from ipywidgets import interact, interactive, fixed, interact_manual\n",
    "from IPython.display import display\n",
    "import pandas as pd"
   ]
  },
  {
   "cell_type": "markdown",
   "metadata": {},
   "source": [
    "# Functions"
   ]
  },
  {
   "cell_type": "markdown",
   "metadata": {},
   "source": [
    "## Read and arrange file"
   ]
  },
  {
   "cell_type": "code",
   "execution_count": 3,
   "metadata": {
    "scrolled": true
   },
   "outputs": [],
   "source": [
    "#Read text file and divide in into a an array whose entries are the columns\n",
    "def FileToArray(filename):\n",
    "    file = open(filename + \".txt\", \"r\")\n",
    "    lines = file.read().splitlines() #puts the file into an array\n",
    "    #lines\n",
    "    return lines\n",
    "\n",
    "#Since there are some missing data in the file, it is not possible to open the file as a astropy table. So the lines must be filled\n",
    "def FillArray(lines):\n",
    "    text= ''\n",
    "    for i in range(1, len(lines)):\n",
    "\n",
    "        divided_line=lines[i].split(\"\\t\")\n",
    "        #print('Line', divided_line)\n",
    "\n",
    "        if divided_line[0] != '':\n",
    "            text= divided_line[0]\n",
    "            #print('Text to write:', text)\n",
    "\n",
    "        if divided_line[0] == '':\n",
    "            divided_line[0] = text\n",
    "            #print('New line:', divided_line)\n",
    "        #print('\\n')\n",
    "        lines[i]=divided_line\n",
    "    return lines\n",
    "\n",
    "#Printing the correct lines in a new file\n",
    "def PrintFilledFile(filename, lines):\n",
    "    \n",
    "    file = open(filename+\"_filled\"+\".txt\", \"w\")\n",
    "\n",
    "    #print title\n",
    "    for w in lines[0]:\n",
    "        file.write(str(w))\n",
    "    file.write(\"\\n\")\n",
    "\n",
    "    #print data\n",
    "    for i in range(1,len(lines)):\n",
    "        l=lines[i]\n",
    "        for w in l:\n",
    "            file.write(str(w))\n",
    "            if w != l[len(l)-1]:\n",
    "                file.write(\"\\t\")\n",
    "        file.write(\"\\n\")\n",
    "    file.close()"
   ]
  },
  {
   "cell_type": "markdown",
   "metadata": {},
   "source": [
    "## Dashboard"
   ]
  },
  {
   "cell_type": "code",
   "execution_count": 4,
   "metadata": {},
   "outputs": [],
   "source": [
    "ALL = 'All'\n",
    "#list to be shown in the drop down menus\n",
    "def unique_sorted_values_plus_ALL(array):\n",
    "    unique = array.unique().tolist()\n",
    "    unique.sort()\n",
    "    unique.insert(0, ALL)\n",
    "    return unique\n",
    "\n",
    "#data filtering\n",
    "def common_filtering(peak, sample):\n",
    "    output.clear_output()    \n",
    "    plot_output.clear_output()  \n",
    "    \n",
    "    if (peak == ALL) & (sample == ALL):\n",
    "        common_filter = data\n",
    "    elif (peak == ALL):\n",
    "        common_filter = data[data.sample_identifier == sample]\n",
    "    elif (sample == ALL):\n",
    "        common_filter = data[data.name == peak]\n",
    "    else:\n",
    "        common_filter = data[(data.name == peak) & (data.sample_identifier == sample)]\n",
    "        \n",
    "    with output:\n",
    "        display(common_filter)\n",
    "        \n",
    "    with plot_output:\n",
    "        interact(graph, data=fixed(common_filter), x_axis=common_filter, y_axis=common_filter)\n",
    "    \n",
    "#function to build a graph\n",
    "def graph(data,x_axis, y_axis):\n",
    "    data.plot(kind='scatter',x=x_axis,y=y_axis, grid=True, legend=True)\n",
    "\n",
    "#functions to update the output when a new selection occurs\n",
    "def dropdown_peak_eventhandler(change):\n",
    "    common_filtering(change.new, dropdown_sample.value)\n",
    "    \n",
    "def dropdown_sample_eventhandler(change):\n",
    "    common_filtering(dropdown_peak.value, change.new)"
   ]
  },
  {
   "cell_type": "markdown",
   "metadata": {},
   "source": [
    "# Main"
   ]
  },
  {
   "cell_type": "code",
   "execution_count": 5,
   "metadata": {
    "scrolled": false
   },
   "outputs": [
    {
     "data": {
      "application/vnd.jupyter.widget-view+json": {
       "model_id": "d493fb55e59646c6a7e3cd14fb8dc9ae",
       "version_major": 2,
       "version_minor": 0
      },
      "text/plain": [
       "Dropdown(description='Peak:', options=('All', 'Al carbide?', 'C 1s', 'C-C', 'C-F2', 'C-N', 'C-O', 'C=O', 'F 1s…"
      ]
     },
     "metadata": {},
     "output_type": "display_data"
    },
    {
     "data": {
      "application/vnd.jupyter.widget-view+json": {
       "model_id": "aee60a26833646cca35370855bf597dd",
       "version_major": 2,
       "version_minor": 0
      },
      "text/plain": [
       "Dropdown(description='Sample:', options=('All', 'Al', 'Au', 'HOPG', 'PTFE', 'Si'), value='All')"
      ]
     },
     "metadata": {},
     "output_type": "display_data"
    },
    {
     "data": {
      "application/vnd.jupyter.widget-view+json": {
       "model_id": "88ac5e6b47364e0f93227f231a705cd0",
       "version_major": 2,
       "version_minor": 0
      },
      "text/plain": [
       "Tab(children=(Output(), Output()), _titles={'0': 'Dataset Exploration', '1': 'Plot'})"
      ]
     },
     "metadata": {},
     "output_type": "display_data"
    }
   ],
   "source": [
    "#insert path, folder and name of the file to read\n",
    "path=\"C:/Users/quadrell/OneDrive - Lancaster University/PhD Project/Data/XPS/\"\n",
    "folder=\"0012_15122020_AQ/\"\n",
    "file=\"20201215_TEMPO_5min_Analysis\"\n",
    "filename=path+folder+file\n",
    "\n",
    "#Prepare file to transform into dataframe\n",
    "lines=FileToArray(filename)\n",
    "lines=FillArray(lines)\n",
    "PrintFilledFile(filename, lines)\n",
    "\n",
    "#initialize the data frame\n",
    "data=pd.read_csv(filename+\"_filled\"+\".txt\",delimiter=\"\\t\")\n",
    "#replace the spaces in the column name swith the underscore\n",
    "data.columns = [c.lower().replace(' ', '_') for c in data.columns]\n",
    "\n",
    "#Widget for data to be displayed\n",
    "output = widgets.Output()\n",
    "#Widget for plot to be displayed\n",
    "plot_output = widgets.Output()\n",
    "\n",
    "#create drop down menus\n",
    "dropdown_peak = widgets.Dropdown(options =    unique_sorted_values_plus_ALL(data.name), description=\"Peak:\")\n",
    "dropdown_sample = widgets.Dropdown(options = unique_sorted_values_plus_ALL(data.sample_identifier), description=\"Sample:\")\n",
    "    \n",
    "#update the data and the graph after the new selection in the dropdwon menu\n",
    "dropdown_peak.observe(dropdown_peak_eventhandler, names='value')\n",
    "dropdown_sample.observe(dropdown_sample_eventhandler, names='value')\n",
    "\n",
    "# tab with data and graph\n",
    "tab = widgets.Tab([output, plot_output])\n",
    "tab.set_title(0, 'Dataset Exploration')\n",
    "tab.set_title(1, 'Plot')\n",
    "\n",
    "display(dropdown_peak)\n",
    "display(dropdown_sample)\n",
    "display(tab)"
   ]
  },
  {
   "cell_type": "markdown",
   "metadata": {},
   "source": [
    "# Test Code"
   ]
  },
  {
   "cell_type": "markdown",
   "metadata": {},
   "source": [
    "## Read and prepare the file"
   ]
  },
  {
   "cell_type": "markdown",
   "metadata": {},
   "source": [
    "Read text file and divide in into a an array (lines) whose entries are the columns"
   ]
  },
  {
   "cell_type": "code",
   "execution_count": 3,
   "metadata": {},
   "outputs": [],
   "source": [
    "filename= \"report\"\n",
    "lines=FileToArray(filename)"
   ]
  },
  {
   "cell_type": "markdown",
   "metadata": {},
   "source": [
    "Since there are some missing data in the file, it is not possible to open the file as a astropy table. So the lines must be filled"
   ]
  },
  {
   "cell_type": "code",
   "execution_count": 4,
   "metadata": {},
   "outputs": [],
   "source": [
    "lines=FillArray(lines)"
   ]
  },
  {
   "cell_type": "markdown",
   "metadata": {},
   "source": [
    "Printing the correct lines in a new file that as the same name as the previous one plus \"_filled\""
   ]
  },
  {
   "cell_type": "code",
   "execution_count": 5,
   "metadata": {},
   "outputs": [],
   "source": [
    "PrintFilledFile(filename, lines)"
   ]
  },
  {
   "cell_type": "markdown",
   "metadata": {},
   "source": [
    "## Read the new file"
   ]
  },
  {
   "cell_type": "markdown",
   "metadata": {},
   "source": [
    "Read the new file (filename+\"_filled\"+\".txt\") with the filled data"
   ]
  },
  {
   "cell_type": "code",
   "execution_count": 6,
   "metadata": {},
   "outputs": [],
   "source": [
    "data=ascii.read(filename+\"_filled\"+\".txt\", guess=False, delimiter=\"\\t\")\n",
    "#data"
   ]
  },
  {
   "cell_type": "markdown",
   "metadata": {},
   "source": [
    "## Data manipulation"
   ]
  },
  {
   "cell_type": "markdown",
   "metadata": {},
   "source": [
    "Create mask corrsponding to the peaks"
   ]
  },
  {
   "cell_type": "code",
   "execution_count": 7,
   "metadata": {},
   "outputs": [],
   "source": [
    "O1s=data['Name Peak']==\"O 1s\"\n",
    "N1s=data['Name Peak']==\"N 1s\"\n",
    "C1s=data['Name Peak']==\"C 1s\""
   ]
  },
  {
   "cell_type": "markdown",
   "metadata": {},
   "source": [
    "Plot the atomic concentration"
   ]
  },
  {
   "cell_type": "code",
   "execution_count": 8,
   "metadata": {},
   "outputs": [
    {
     "data": {
      "image/png": "[encoded data removed]",
      "text/plain": [
       "<Figure size 432x288 with 1 Axes>"
      ]
     },
     "metadata": {
      "needs_background": "light"
     },
     "output_type": "display_data"
    }
   ],
   "source": [
    "t=[300,120,60,45,30,15,5] #growth time\n",
    "\n",
    "plt.scatter(t,data[\"%At Conc\"][C1s], color=\"gray\", label=\"Measured C 1s\")\n",
    "plt.hlines(81.2, t[-1], t[0], linestyle='--', color=\"gray\", label=\"Theoretical C 1s\")\n",
    "plt.scatter(t,data[\"%At Conc\"][N1s], color=\"violet\", label=\"Measured N 1s\")\n",
    "plt.hlines(9.1, t[-1], t[0], linestyle='--', color=\"violet\", label=\"Theoretical N 1s\")\n",
    "plt.scatter(t,data[\"%At Conc\"][O1s], color=\"blue\", label=\"Measured O 1s\")\n",
    "plt.hlines(9.1, t[-1], t[0], linestyle='--', color=\"blue\", label=\"Theoretical O 1s\")\n",
    "\n",
    "plt.xlabel(\"Deposition time (s)\")\n",
    "plt.ylabel(\"Atomic concentration (%)\")\n",
    "plt.title(\"TEMPO measured and theoretical atomic concentrations\")\n",
    "plt.legend()\n",
    "plt.grid()"
   ]
  },
  {
   "cell_type": "markdown",
   "metadata": {},
   "source": [
    "## Intercative data"
   ]
  },
  {
   "cell_type": "markdown",
   "metadata": {},
   "source": [
    "read data using pandas dataframe and replace the spaces in the column names with underscore"
   ]
  },
  {
   "cell_type": "code",
   "execution_count": 45,
   "metadata": {},
   "outputs": [],
   "source": [
    "data=pd.read_csv(filename+\"_filled\"+\".txt\",delimiter=\"\\t\")\n",
    "#replace the spaces in the column name swith the underscore\n",
    "data.columns = [c.lower().replace(' ', '_') for c in data.columns]"
   ]
  },
  {
   "cell_type": "markdown",
   "metadata": {},
   "source": [
    "Set up all the widgets and their update"
   ]
  },
  {
   "cell_type": "code",
   "execution_count": 52,
   "metadata": {},
   "outputs": [],
   "source": [
    "#Data to be displayed\n",
    "output = widgets.Output()\n",
    "#plot to be displayed\n",
    "plot_output = widgets.Output()\n",
    "\n",
    "#drop down menus\n",
    "dropdown_SampleIdentifier = widgets.Dropdown(options = unique_sorted_values_plus_ALL(data.sample_identifier), description=\"Sample:\")\n",
    "dropdown_NamePeak = widgets.Dropdown(options = unique_sorted_values_plus_ALL(data.name_peak), description=\"Peak:\")\n",
    "\n",
    "#functions to handle with new selections\n",
    "dropdown_NamePeak.observe(dropdown_NamePeak_eventhandler, names='value')\n",
    "dropdown_SampleIdentifier.observe(dropdown_SampleIdentifier_eventhandler, names='value')"
   ]
  },
  {
   "cell_type": "markdown",
   "metadata": {},
   "source": [
    "the following cell do not work properly"
   ]
  },
  {
   "cell_type": "code",
   "execution_count": 102,
   "metadata": {},
   "outputs": [
    {
     "data": {
      "application/vnd.jupyter.widget-view+json": {
       "model_id": "442a14de95d4424dae23fd2437f86e45",
       "version_major": 2,
       "version_minor": 0
      },
      "text/plain": [
       "VBox(children=(HBox(children=(Dropdown(description='Peak:', index=1, options=('All', 'C 1s', 'N 1s', 'O 1s', '…"
      ]
     },
     "metadata": {},
     "output_type": "display_data"
    }
   ],
   "source": [
    "#drop down menu in the same row\n",
    "input_widgets = widgets.HBox([dropdown_NamePeak, dropdown_SampleIdentifier])\n",
    "\n",
    "#data and graph in an interactive table\n",
    "tab = widgets.Tab([output, plot_output])\n",
    "tab.set_title(0, 'Dataset Exploration')\n",
    "tab.set_title(1, 'Plot')\n",
    "dashboard = widgets.VBox([input_widgets, tab])\n",
    "#Dispaly the result in a new cell in a dashboard format\n",
    "display(dashboard)"
   ]
  },
  {
   "cell_type": "markdown",
   "metadata": {},
   "source": [
    "Using the tab instead of the dashboard lead to a working code"
   ]
  },
  {
   "cell_type": "code",
   "execution_count": 98,
   "metadata": {},
   "outputs": [],
   "source": [
    "#Data to be displayed\n",
    "output = widgets.Output()\n",
    "#plot to be displayed\n",
    "plot_output = widgets.Output()\n",
    "\n",
    "dropdown_peak = widgets.Dropdown(options =    unique_sorted_values_plus_ALL(data.name_peak), description=\"Peak:\")\n",
    "dropdown_sample = widgets.Dropdown(options = unique_sorted_values_plus_ALL(data.sample_identifier), description=\"Sample:\")\n",
    "    \n",
    "dropdown_peak.observe(dropdown_peak_eventhandler, names='value')\n",
    "dropdown_sample.observe(dropdown_sample_eventhandler, names='value')\n",
    "\n",
    "tab = widgets.Tab([output, plot_output])\n",
    "tab.set_title(0, 'Dataset Exploration')\n",
    "tab.set_title(1, 'Plot')"
   ]
  },
  {
   "cell_type": "code",
   "execution_count": 99,
   "metadata": {},
   "outputs": [
    {
     "data": {
      "application/vnd.jupyter.widget-view+json": {
       "model_id": "bd3fa4810ecc468292e4370eb1f39024",
       "version_major": 2,
       "version_minor": 0
      },
      "text/plain": [
       "Dropdown(description='Peak:', options=('All', 'C 1s', 'N 1s', 'O 1s', 'Si 2p'), value='All')"
      ]
     },
     "metadata": {},
     "output_type": "display_data"
    },
    {
     "data": {
      "application/vnd.jupyter.widget-view+json": {
       "model_id": "e12d616e83bb40eabbdc56d9cd6d8fc8",
       "version_major": 2,
       "version_minor": 0
      },
      "text/plain": [
       "Dropdown(description='Sample:', options=('All', '1 min', '15 s', '2 min', '30 s', '45 s', '5 min', '5 s'), val…"
      ]
     },
     "metadata": {},
     "output_type": "display_data"
    },
    {
     "data": {
      "application/vnd.jupyter.widget-view+json": {
       "model_id": "cf48a9caf20a4a47aaaebc95575f673c",
       "version_major": 2,
       "version_minor": 0
      },
      "text/plain": [
       "Tab(children=(Output(), Output()), _titles={'0': 'Dataset Exploration', '1': 'Plot'})"
      ]
     },
     "metadata": {},
     "output_type": "display_data"
    }
   ],
   "source": [
    "display(dropdown_peak)\n",
    "display(dropdown_sample)\n",
    "display(tab)"
   ]
  },
  {
   "cell_type": "markdown",
   "metadata": {},
   "source": [
    "## Graph with interaction"
   ]
  },
  {
   "cell_type": "code",
   "execution_count": 17,
   "metadata": {
    "scrolled": true
   },
   "outputs": [
    {
     "data": {
      "application/vnd.jupyter.widget-view+json": {
       "model_id": "020d3db3eeb044a4a84431e171d44d0a",
       "version_major": 2,
       "version_minor": 0
      },
      "text/plain": [
       "interactive(children=(Dropdown(description='x_axis', options=('sample_identifier', 'name_peak', 'position', 'f…"
      ]
     },
     "metadata": {},
     "output_type": "display_data"
    },
    {
     "data": {
      "text/plain": [
       "<function __main__.graph(data, x_axis, y_axis)>"
      ]
     },
     "execution_count": 17,
     "metadata": {},
     "output_type": "execute_result"
    }
   ],
   "source": [
    "def graph(data,x_axis, y_axis):\n",
    "    data.plot(kind='scatter',x=x_axis,y=y_axis)\n",
    "\n",
    "interact(graph, data=fixed(data), x_axis=data, y_axis=data)"
   ]
  },
  {
   "cell_type": "markdown",
   "metadata": {},
   "source": [
    "## Single filter"
   ]
  },
  {
   "cell_type": "code",
   "execution_count": 32,
   "metadata": {},
   "outputs": [
    {
     "data": {
      "application/vnd.jupyter.widget-view+json": {
       "model_id": "fbbe3bfa637644fba2f6b16b184477a2",
       "version_major": 2,
       "version_minor": 0
      },
      "text/plain": [
       "Dropdown(options=('ALL', 'C 1s', 'N 1s', 'O 1s', 'Si 2p'), value='ALL')"
      ]
     },
     "metadata": {},
     "output_type": "display_data"
    }
   ],
   "source": [
    "dropdown_NamePeak = widgets.Dropdown(options = unique_sorted_values_plus_ALL(data.name_peak))\n",
    "output_NamePeak = widgets.Output()\n",
    "\n",
    "def dropdown_NamePeak_eventhandler(change):\n",
    "    output_NamePeak.clear_output()\n",
    "    with output_NamePeak:\n",
    "        if (change.new == ALL):\n",
    "            display(data)\n",
    "        else:\n",
    "            display(data[data.name_peak == change.new])\n",
    "        \n",
    "dropdown_NamePeak.observe(dropdown_NamePeak_eventhandler, names='value')\n",
    "display(dropdown_NamePeak)"
   ]
  },
  {
   "cell_type": "code",
   "execution_count": 33,
   "metadata": {},
   "outputs": [
    {
     "data": {
      "application/vnd.jupyter.widget-view+json": {
       "model_id": "fb1664e9855f42789bd91a9db052e85b",
       "version_major": 2,
       "version_minor": 0
      },
      "text/plain": [
       "Output(outputs=({'output_type': 'display_data', 'data': {'text/plain': '   sample_identifier name_peak  positi…"
      ]
     },
     "metadata": {},
     "output_type": "display_data"
    }
   ],
   "source": [
    "display(output_NamePeak)"
   ]
  },
  {
   "cell_type": "code",
   "execution_count": 44,
   "metadata": {},
   "outputs": [
    {
     "data": {
      "application/vnd.jupyter.widget-view+json": {
       "model_id": "f2745a1c47fd41fba6ac93d68caff768",
       "version_major": 2,
       "version_minor": 0
      },
      "text/plain": [
       "VBox(children=(HBox(children=(Dropdown(description='Peak:', options=('ALL', 'C 1s', 'N 1s', 'O 1s', 'Si 2p'), …"
      ]
     },
     "metadata": {},
     "output_type": "display_data"
    }
   ],
   "source": [
    "display(dashboard)"
   ]
  },
  {
   "cell_type": "markdown",
   "metadata": {},
   "source": [
    "# New"
   ]
  },
  {
   "cell_type": "code",
   "execution_count": 20,
   "metadata": {},
   "outputs": [
    {
     "data": {
      "application/vnd.jupyter.widget-view+json": {
       "model_id": "af9824d68122480e99a8d4830b32e646",
       "version_major": 2,
       "version_minor": 0
      },
      "text/plain": [
       "Dropdown(description='Peaks:', options=('O 1s', 'C 1s', 'N 1s', 'O 1s', 'C 1s', 'N 1s', 'C 1s', 'O 1s', 'C 1s'…"
      ]
     },
     "metadata": {},
     "output_type": "display_data"
    }
   ],
   "source": [
    "widgets.Dropdown(\n",
    "    options=data.name,\n",
    "    description='Peaks:'\n",
    ")"
   ]
  }
 ],
 "metadata": {
  "kernelspec": {
   "display_name": "Python 3",
   "language": "python",
   "name": "python3"
  },
  "language_info": {
   "codemirror_mode": {
    "name": "ipython",
    "version": 3
   },
   "file_extension": ".py",
   "mimetype": "text/x-python",
   "name": "python",
   "nbconvert_exporter": "python",
   "pygments_lexer": "ipython3",
   "version": "3.8.5"
  },
  "toc": {
   "base_numbering": 1,
   "nav_menu": {},
   "number_sections": true,
   "sideBar": true,
   "skip_h1_title": false,
   "title_cell": "Table of Contents",
   "title_sidebar": "Contents",
   "toc_cell": false,
   "toc_position": {
    "height": "calc(100% - 180px)",
    "left": "10px",
    "top": "150px",
    "width": "226px"
   },
   "toc_section_display": true,
   "toc_window_display": true
  },
  "varInspector": {
   "cols": {
    "lenName": 16,
    "lenType": 16,
    "lenVar": 40
   },
   "kernels_config": {
    "python": {
     "delete_cmd_postfix": "",
     "delete_cmd_prefix": "del ",
     "library": "var_list.py",
     "varRefreshCmd": "print(var_dic_list())"
    },
    "r": {
     "delete_cmd_postfix": ") ",
     "delete_cmd_prefix": "rm(",
     "library": "var_list.r",
     "varRefreshCmd": "cat(var_dic_list()) "
    }
   },
   "types_to_exclude": [
    "module",
    "function",
    "builtin_function_or_method",
    "instance",
    "_Feature"
   ],
   "window_display": false
  }
 },
 "nbformat": 4,
 "nbformat_minor": 4
}
