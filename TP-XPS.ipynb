{
 "cells": [
  {
   "cell_type": "markdown",
   "metadata": {},
   "source": [
    "# Libraries"
   ]
  },
  {
   "cell_type": "code",
   "execution_count": null,
   "metadata": {},
   "outputs": [],
   "source": [
    "import numpy as np\n",
    "from scipy import stats\n",
    "import pandas as pd\n",
    "import plotly.graph_objects as go\n",
    "from plotly.subplots import make_subplots\n",
    "import matplotlib.pyplot as plt"
   ]
  },
  {
   "cell_type": "markdown",
   "metadata": {},
   "source": [
    "# Functions"
   ]
  },
  {
   "cell_type": "markdown",
   "metadata": {},
   "source": [
    "## Temperature ramp"
   ]
  },
  {
   "cell_type": "code",
   "execution_count": null,
   "metadata": {},
   "outputs": [],
   "source": [
    "#Given the path to the file as folde and file name, it reutrns the temperature ramp as a Pandas dataframe.\n",
    "#The time is in a strange format and needs to be modified depending on the format chosen during the measurments\n",
    "def ReadTemperatureData(FolderTR,FileTR):\n",
    "    TemperatureRamp=pd.read_csv(FolderTR+\"/\"+FileTR+\".csv\") #Read the temperature ramp data\n",
    "    #give meaningful names to the dataset columns\n",
    "    TemperatureRamp.rename(columns={\"Date/Time\": \"Time\", \"COM9.ID001-3216.INPUT.PVInValue\": \"Temperature\",\"COM9.ID001-3216.SP.SP1\": \"Setpoint\",\"COM9.ID001-3216.INPUT.PVDot\": \"Unknown\"}, inplace=True)\n",
    "    return TemperatureRamp\n",
    "\n",
    "def AdjustTime(TemperatureRamp, unit):\n",
    "    #Time is in a strange format. Subtracting the first time you get the time starting from zero.\n",
    "    #Then, I convert the time in hours by multplying for the unit time I select while acquiring the data that was 24h\n",
    "    TimeUnit=unit #hours\n",
    "    TemperatureRamp['Time']=(TemperatureRamp['Time']-TemperatureRamp['Time'][0])*TimeUnit\n",
    "    return TemperatureRamp"
   ]
  },
  {
   "cell_type": "markdown",
   "metadata": {},
   "source": [
    "## XPS Data"
   ]
  },
  {
   "cell_type": "code",
   "execution_count": null,
   "metadata": {},
   "outputs": [],
   "source": [
    "#reads the XPS Data and gives meaninigful name to the columns. The colums must be 5\n",
    "def ReadXPSData(FolderTR, FileXPS, DataPerSpectrum, HeaderColumns):\n",
    "    XPS=pd.read_table(FolderTR+\"/\"+FileXPS, skiprows=lambda x: x%DataPerSpectrum<HeaderColumns, header=None)\n",
    "    XPS.columns=[\"Kinetic energy\", \"Counts\", \"Initial Temperature\", \"Binding Energy\", \"CPS\"]\n",
    "    return XPS\n",
    "\n",
    "#Add the temperature to the temperature column at which the acquisition started\n",
    "def SetTemperatureColumn(XPS, NumberOfSpectra, regression):\n",
    "    for i in range(0, NumberOfSpectra):\n",
    "        XPS[\"Initial Temperature\"][i*NumericDataPerSpectrum:(i+1)*NumericDataPerSpectrum]=regression.intercept+regression.slope\n",
    "    return XPS\n",
    "\n",
    "#Returns a vector with the temperature at which each spectrum was acquired\n",
    "def TemperatureVector(regression, time, NumberOfSpectra):\n",
    "    t=np.arange(NumberOfSpectra+1)\n",
    "    Duration=(time[len(time)-1]-time[0])/NumberOfSpectra\n",
    "    Temperature=regression.intercept+regression.slope*Duration*t\n",
    "    return Temperature\n",
    "    \n",
    "#It computer the mean of a region of CPS (greater than a setpoint named lower energy or lower than a setpoint named upper energy) \n",
    "#and subtract it to to the data for each spectrum so that all the spectra cross the zero line.\n",
    "def Normalize(XPS, NumberOfSpectra, NumberOfData):  \n",
    "    \n",
    "    x_len=XPS.shape[0]//NumberOfSpectra\n",
    "    #reshape the data to compute the mean for each spectrum\n",
    "    Means=np.mean(XPS[\"CPS\"].values.reshape(NumberOfSpectra,x_len)[0:NumberOfData],axis=1)\n",
    "\n",
    "    #subtratct the mean to each spectrum \n",
    "    for i in range (0, NumberOfSpectra):\n",
    "        XPS[\"CPS\"].values.reshape(NumberOfSpectra,x_len)[i]-= Means[i]\n",
    "    \n",
    "    return XPS\n",
    "    \n",
    "#For each spectrum, it computes the linear background and subtractit to the data\n",
    "#To do so, it uses two doublets (x,y),\n",
    "#they are the mean of the Point number of points at the right of the left edge and at the left of the rigth edge\n",
    "def RemoveLinearBackgorund(XPS, Points, NumberOfSpectra):\n",
    "    x_len=XPS.shape[0]//NumberOfSpectra\n",
    "\n",
    "    for i in range (0, NumberOfSpectra):\n",
    "        #for each spectrum compute the doublets (x,y) that will be used to calculate the slope m and intercept q\n",
    "        y1=np.mean(XPS[\"CPS\"].values.reshape(NumberOfSpectra,x_len)[i][0:Points])\n",
    "        y2=np.mean(XPS[\"CPS\"].values.reshape(NumberOfSpectra,x_len)[i][x_len-Points:x_len])\n",
    "\n",
    "        x1=np.mean(XPS[\"Binding Energy\"].values.reshape(NumberOfSpectra,x_len)[i][0:Points])\n",
    "        x2=np.mean(XPS[\"Binding Energy\"].values.reshape(NumberOfSpectra,x_len)[i][x_len-Points:x_len])\n",
    "\n",
    "        #compute slope and intercept\n",
    "        m=(y2-y1)/(x2-x1)\n",
    "        q=y2-m*x2\n",
    "\n",
    "        #subtract to the CPS the as computed linear background\n",
    "        XPS[\"CPS\"].values.reshape(NumberOfSpectra,x_len)[i] -= m*XPS[\"Binding Energy\"].values.reshape(NumberOfSpectra,x_len)[i] + q\n",
    "        \n",
    "    return XPS"
   ]
  },
  {
   "cell_type": "markdown",
   "metadata": {},
   "source": [
    "# Automated code"
   ]
  },
  {
   "cell_type": "markdown",
   "metadata": {},
   "source": [
    "## Parameters"
   ]
  },
  {
   "cell_type": "code",
   "execution_count": null,
   "metadata": {},
   "outputs": [],
   "source": [
    "#Path to the XPS folder\n",
    "Path=\"C:/Users/quadrell/OneDrive - Lancaster University/PhD Project/Data/XPS/\"\n",
    "#Folder of the Temperature ramp and XPS data\n",
    "FolderTR=Path+\"0009_100321_AQ\"\n",
    "#File of the temperature ramp\n",
    "FileTR=\"20210310_TemperatureRamp\"\n",
    "\n",
    "#Files with XPS Data\n",
    "files=[\"Br3p\",\"N1s\",\"Au4f\"]\n",
    "#Number of data per spectrum\n",
    "DataPerSpectra=[409,409,169]\n",
    "#number of columns comprising the headers of the XPS data files\n",
    "HeaderColumns=8"
   ]
  },
  {
   "cell_type": "markdown",
   "metadata": {},
   "source": [
    "## Main"
   ]
  },
  {
   "cell_type": "code",
   "execution_count": null,
   "metadata": {
    "scrolled": false
   },
   "outputs": [],
   "source": [
    "#Prepare the pandas dataframe with the data\n",
    "TemperatureRamp = ReadTemperatureData(FolderTR,FileTR)\n",
    "#Transform the time in hours\n",
    "AdjustTime(TemperatureRamp, unit=24) #24 means 24 hours\n",
    "#Fit the temperature data\n",
    "regression = stats.linregress(TemperatureRamp['Time'], TemperatureRamp['Temperature'])\n",
    "\n",
    "for j in range(0, len(files)):\n",
    "    \n",
    "    FileXPS=files[j] #Name of the file with XPS Data produced by CasaXPS Sav TAB Ascii\n",
    "    DataPerSpectrum=DataPerSpectra[j] #number of rows of each spectrum including the headers. 169 for Au, 409 for Br and N\n",
    "    NumericDataPerSpectrum=DataPerSpectrum-HeaderColumns #number of rows with the numeric data\n",
    "\n",
    "    #Read the XPS data and assign them to a pandas dataframe\n",
    "    XPS=ReadXPSData(FolderTR, FileXPS, DataPerSpectrum, HeaderColumns)\n",
    "\n",
    "    #number of spectra composing the dataset\n",
    "    NumberOfSpectra=(XPS.shape[0]//NumericDataPerSpectrum)\n",
    "                     \n",
    "    #prepare a vecture of temperatures for thee heat map. It is as long as the number of spectra and requires the temperature ramp to be computed\n",
    "    Temperature=TemperatureVector(regression, time=TemperatureRamp['Time'], NumberOfSpectra=NumberOfSpectra)\n",
    "    \n",
    "    #redefine the length of the vectors along the x axis so that the graph works even when masking the data\n",
    "    x_len=XPS.shape[0]//NumberOfSpectra\n",
    "    #Normalize and print the data. ALl the traces should cross the horizintal line in the same point\n",
    "    XPS=Normalize(XPS,NumberOfSpectra=NumberOfSpectra, NumberOfData=50)\n",
    "    #Remove the linear background and print the data\n",
    "    XPS=RemoveLinearBackgorund(XPS, Points=30, NumberOfSpectra=NumberOfSpectra)\n",
    "    \n",
    "    print(FileXPS)\n",
    "    \n",
    "    #plot the graph\n",
    "    fig = go.Figure(data=go.Heatmap(\n",
    "    z=XPS[\"CPS\"].values.reshape(NumberOfSpectra,x_len), #reshape the dataframe to form a matrix required for the heatmpa. Each row is a spectrum (CPS)\n",
    "    x=XPS[\"Binding Energy\"][0:x_len], #add the x-axis scale, it must be as long as the spectra\n",
    "    y=Temperature, #the temperature of the y-axis depends only on the number of spectra\n",
    "    colorscale= 'Jet'))\n",
    "    \n",
    "    fig.update_layout(xaxis_title='Binding Energy (eV)', yaxis_title='Temperature (°C)',\n",
    "                      xaxis = dict(showexponent ='none'),\n",
    "                      margin=go.layout.Margin(l=0,r=0,b=0,t=0),\n",
    "                      autosize=False, width=600, height=600)\n",
    "\n",
    "    fig.update_traces(showscale=False) #hides the colorbar\n",
    "    fig.show()\n",
    "    #save picture \n",
    "    fig.write_image(FolderTR+\"/\"+FileXPS+\".svg\")"
   ]
  },
  {
   "cell_type": "markdown",
   "metadata": {},
   "source": [
    "# Previous versions of the code"
   ]
  },
  {
   "cell_type": "markdown",
   "metadata": {},
   "source": [
    "## Temperature Ramp"
   ]
  },
  {
   "cell_type": "code",
   "execution_count": null,
   "metadata": {},
   "outputs": [],
   "source": [
    "FolderTR=\"C:/Users/quadrell/OneDrive - Lancaster University/PhD Project/Data/XPS/0009_100321_AQ\" #Folder of the Temperature ramp\n",
    "FileTR=\"20210310_TemperatureRamp\" #File of the temperature ramp\n",
    "#Prepare the pandas dataframe with the data\n",
    "TemperatureRamp = ReadTemperatureData(FolderTR,FileTR)\n",
    "#Transform the time in hours\n",
    "AdjustTime(TemperatureRamp, unit=24) #24 means 24 hours\n",
    "#Fit the temperature data\n",
    "regression = stats.linregress(TemperatureRamp['Time'], TemperatureRamp['Temperature'])"
   ]
  },
  {
   "cell_type": "code",
   "execution_count": null,
   "metadata": {},
   "outputs": [],
   "source": [
    "#plot the temperature ramp, fit and setpoint\n",
    "fig = go.Figure()\n",
    "fig.add_trace(go.Scatter(x=TemperatureRamp['Time'], y=TemperatureRamp['Temperature'], name=\"Ramp Data\", mode='markers'))\n",
    "fig.add_trace(go.Scatter(x=TemperatureRamp['Time'], y=TemperatureRamp['Time']*regression.slope+regression.intercept, name=\"Ramp Fit\", mode='lines'))\n",
    "fig.add_trace(go.Scatter(x=TemperatureRamp['Time'], y=TemperatureRamp['Setpoint'], name=\"Setpoint\"))\n",
    "fig.update_layout(xaxis_title='Time (h)', yaxis_title='Temperature (°C)')\n",
    "fig.show()"
   ]
  },
  {
   "cell_type": "markdown",
   "metadata": {},
   "source": [
    "## XPS Data"
   ]
  },
  {
   "cell_type": "code",
   "execution_count": null,
   "metadata": {},
   "outputs": [],
   "source": [
    "HeaderColumns=8 #number of columns comprising the headers\n",
    "FileXPS=\"Au4f\" #Name of the file with XPS Data produced by CasaXPS Sav TAB Ascii\n",
    "DataPerSpectrum=169 #number of rows of each spectrum including the headers. 169 for Au, 409 for Br and N\n",
    "NumericDataPerSpectrum=DataPerSpectrum-HeaderColumns #number of rows with the numeric data\n",
    "\n",
    "#Read the XPS data and assign them to a pandas dataframe\n",
    "XPS=ReadXPSData(FolderTR, FileXPS, DataPerSpectrum, HeaderColumns)\n",
    "\n",
    "#number of spectra composing the dataset\n",
    "NumberOfSpectra=(XPS.shape[0]//NumericDataPerSpectrum)\n",
    "\n",
    "#Add a column to the dataframe corresponding to the initial temperature of the spectrum\n",
    "#XPSAu=SetTemperatureColumn(XPSAu, NumberOfSpectra, regression)\n",
    "\n",
    "#prepare a vecture of temperatures for thee heat map. It is as long as the number of spectra and requires the temperature ramp to be computed\n",
    "Temperature=TemperatureVector(regression, time=TemperatureRamp['Time'], NumberOfSpectra=NumberOfSpectra)"
   ]
  },
  {
   "cell_type": "code",
   "execution_count": null,
   "metadata": {},
   "outputs": [],
   "source": [
    "#redefine the length of the vectors along the x axis so that the graph works even when masking the data\n",
    "x_len=XPS.shape[0]//NumberOfSpectra\n",
    "#Normalize and print the data. ALl the traces should cross the horizintal line in the same point\n",
    "XPS=Normalize(XPS,NumberOfSpectra=NumberOfSpectra, NumberOfData=50)\n",
    "#Remove the linear background and print the data\n",
    "XPS=RemoveLinearBackgorund(XPS, Points=30, NumberOfSpectra=NumberOfSpectra)"
   ]
  },
  {
   "cell_type": "code",
   "execution_count": null,
   "metadata": {
    "scrolled": false
   },
   "outputs": [],
   "source": [
    "fig = go.Figure(data=go.Heatmap(\n",
    "    z=XPS[\"CPS\"].values.reshape(NumberOfSpectra,x_len), #reshape the dataframe to form a matrix required for the heatmpa. Each row is a spectrum (CPS)\n",
    "    x=XPS[\"Binding Energy\"][0:x_len], #add the x-axis scale, it must be as long as the spectra\n",
    "    y=Temperature, #the temperature of the y-axis depends only on the number of spectra\n",
    "    colorscale= 'Jet'))\n",
    "fig.update_layout(xaxis_title='Binding Energy (eV)', yaxis_title='Temperature (°C)',\n",
    "                  xaxis = dict(showexponent ='none'),\n",
    "                  margin=go.layout.Margin(l=0,r=0,b=0,t=0),\n",
    "                  autosize=False, width=600, height=600)\n",
    "\n",
    "fig.update_traces(showscale=False) #hides the colorbar\n",
    "fig.show()\n",
    "#save picture \n",
    "#fig.write_image(FolderTR+\"/\"+FileXPS+\".svg\") #save picture "
   ]
  },
  {
   "cell_type": "markdown",
   "metadata": {},
   "source": [
    "## Code for each peak"
   ]
  },
  {
   "cell_type": "markdown",
   "metadata": {},
   "source": [
    "### Au"
   ]
  },
  {
   "cell_type": "code",
   "execution_count": null,
   "metadata": {},
   "outputs": [],
   "source": [
    "FileXPS=\"Au4f\" #Name of the file with XPS Data produced by CasaXPS Sav TAB Ascii\n",
    "DataPerSpectrum=169 #number of rows of each spectrum including the headers\n",
    "NumericDataPerSpectrum=DataPerSpectrum-HeaderColumns #number of rows with the numeric data\n",
    "\n",
    "#Read the XPS data and assign them to a pandas dataframe\n",
    "XPSAu=ReadXPSData(FolderTR, FileXPS, DataPerSpectrum, HeaderColumns)\n",
    "\n",
    "#number of spectra composing the dataset\n",
    "NumberOfSpectra=(XPSAu.shape[0]//NumericDataPerSpectrum)\n",
    "\n",
    "#Add a column to the dataframe corresponding to the initial temperature of the spectrum\n",
    "#XPSAu=SetTemperatureColumn(XPSAu, NumberOfSpectra, regression)\n",
    "\n",
    "#prepare a vecture of temperatures for thee heat map. It is as long as the number of spectra and requires the temperature ramp to be computed\n",
    "Temperature=TemperatureVector(regression, time=TemperatureRamp['Time'], NumberOfSpectra=NumberOfSpectra)"
   ]
  },
  {
   "cell_type": "code",
   "execution_count": null,
   "metadata": {},
   "outputs": [],
   "source": [
    "x_len=XPSAu.shape[0]//NumberOfSpectra\n",
    "\n",
    "#Print 3 subplot to show each stage of the manipulation: rwad data, normalization and linear background subtraction\n",
    "fig = make_subplots(rows=3, cols=1, subplot_titles=(\"Raw Data\", \"Normalization\", \"Background Subtraction\"), shared_xaxes=False)\n",
    "                    #Print the traces of the raw data\n",
    "for i in range (0, NumberOfSpectra):\n",
    "    fig.append_trace(go.Scatter(x=XPSAu[\"Binding Energy\"].values.reshape(NumberOfSpectra,x_len)[i], y=XPSAu[\"CPS\"].values.reshape(NumberOfSpectra,x_len)[i], name=str(i)),\n",
    "                     row=1, col=1)\n",
    "\n",
    "#Normalize and print the data. ALl the traces should cross the horizintal line in the same point\n",
    "XPSAu=Normalize(XPSAu,NumberOfSpectra=NumberOfSpectra, NumberOfData=50)\n",
    "\n",
    "for i in range (0, NumberOfSpectra):\n",
    "    fig.append_trace(go.Scatter(x=XPSAu[\"Binding Energy\"].values.reshape(NumberOfSpectra,x_len)[i], y=XPSAu[\"CPS\"].values.reshape(NumberOfSpectra,x_len)[i], name=str(i)),\n",
    "                     row=2, col=1)\n",
    "\n",
    "#Remove the linear background and print the data\n",
    "XPSAu=RemoveLinearBackgorund(XPSAu, Points=30, NumberOfSpectra=NumberOfSpectra)\n",
    "\n",
    "for i in range (0, NumberOfSpectra):\n",
    "    fig.append_trace(go.Scatter(x=XPSAu[\"Binding Energy\"].values.reshape(NumberOfSpectra,x_len)[i], y=XPSAu[\"CPS\"].values.reshape(NumberOfSpectra,x_len)[i], name=str(i)),\n",
    "                     row=3, col=1)\n",
    "\n",
    "fig.update_xaxes(title_text=\"Binding Energy (eV)\", row=3, col=1)\n",
    "fig.update_yaxes(title_text=\"CPS\", row=1, col=1)\n",
    "fig.update_yaxes(title_text=\"CPS\", row=2, col=1)\n",
    "fig.update_yaxes(title_text=\"CPS\", row=3, col=1)\n",
    "    \n",
    "#fig.write_html(FolderTR+\"/\"+\"Au\"+\".html\")\n",
    "\n",
    "fig.show()"
   ]
  },
  {
   "cell_type": "code",
   "execution_count": null,
   "metadata": {},
   "outputs": [],
   "source": [
    "fig.update_layout(xaxis_title='Binding Energy (eV)', yaxis_title='Temperature (°C)',\n",
    "                  xaxis = dict(showexponent ='none'),\n",
    "                  margin=go.layout.Margin(l=0,r=0,b=0,t=0),\n",
    "                  autosize=False)#redefine the length of the vectors along the x axis so that the graph works even when masking the data\n",
    "\n",
    "x_len=XPSAu.shape[0]//NumberOfSpectra\n",
    "\n",
    "fig = go.Figure(data=go.Heatmap(\n",
    "    z=XPSAu[\"CPS\"].values.reshape(NumberOfSpectra,x_len), #reshape the dataframe to form a matrix required for the heatmpa. Each row is a spectrum (CPS)\n",
    "    x=XPSAu[\"Binding Energy\"][0:x_len], #add the x-axis scale, it must be as long as the spectra\n",
    "    y=Temperature, #the temperature of the y-axis depends only on the number of spectra\n",
    "    colorscale= 'Jet'))\n",
    "fig.update_layout(xaxis_title='Binding Energy (eV)', yaxis_title='Temperature (°C)',\n",
    "                  xaxis = dict(showexponent ='none'),\n",
    "                  margin=go.layout.Margin(l=0,r=0,b=0,t=0),\n",
    "                  autosize=False, width=600, height=600)\n",
    "fig.update_traces(showscale=False) #hides the colorbar\n",
    "fig.show()\n",
    "#save picture \n",
    "fig.write_image(FolderTR+\"/\"+\"Au.svg\") #save picture "
   ]
  },
  {
   "cell_type": "markdown",
   "metadata": {},
   "source": [
    "### N"
   ]
  },
  {
   "cell_type": "code",
   "execution_count": null,
   "metadata": {},
   "outputs": [],
   "source": [
    "#FileXPS=\"BackGroundSubtractionN-Smooth\" #Name of the file with XPS Data produced by CasaXPS Sav TAB Ascii\n",
    "FileXPS=\"N1s\"\n",
    "DataPerSpectrum=209 #number of rows of each spectrum including the headers\n",
    "NumericDataPerSpectrum=DataPerSpectrum-HeaderColumns #number of rows with the numeric data\n",
    "\n",
    "#Read the XPS data and assign them to a pandas dataframe\n",
    "XPSN=ReadXPSData(FolderTR, FileXPS, DataPerSpectrum, HeaderColumns)\n",
    "\n",
    "#number of spectra composing the dataset\n",
    "NumberOfSpectra=(XPSN.shape[0]//NumericDataPerSpectrum)\n",
    "\n",
    "#Add a column to the dataframe corresponding to the initial temperature of the spectrum\n",
    "#XPSN=SetTemperatureColumn(XPSN, NumberOfSpectra, regression)\n",
    "\n",
    "#prepare a vecture of temperatures for thee heat map. It is as long as the number of spectra and requires the temperature ramp to be computed\n",
    "Temperature=TemperatureVector(regression, time=TemperatureRamp['Time'], NumberOfSpectra=NumberOfSpectra)"
   ]
  },
  {
   "cell_type": "code",
   "execution_count": null,
   "metadata": {},
   "outputs": [],
   "source": [
    "x_len=XPSN.shape[0]//NumberOfSpectra\n",
    "\n",
    "#Print 3 subplot to show each stage of the manipulation: rwad data, normalization and linear background subtraction\n",
    "fig = make_subplots(rows=3, cols=1, shared_xaxes=True, vertical_spacing = 0.01)\n",
    "\n",
    "#Print the traces of the raw data\n",
    "for i in range (0, NumberOfSpectra):\n",
    "    fig.append_trace(go.Scatter(x=XPSN[\"Binding Energy\"].values.reshape(NumberOfSpectra,x_len)[i], y=XPSN[\"CPS\"].values.reshape(NumberOfSpectra,x_len)[i], name=str(i)),\n",
    "                     row=1, col=1)\n",
    "\n",
    "#Normalize and print the data. ALl the traces should cross the horizintal line in the same point\n",
    "XPSN=Normalize(XPSN,NumberOfSpectra=NumberOfSpectra, NumberOfData=50)\n",
    "\n",
    "for i in range (0, NumberOfSpectra):\n",
    "    fig.append_trace(go.Scatter(x=XPSN[\"Binding Energy\"].values.reshape(NumberOfSpectra,x_len)[i], y=XPSN[\"CPS\"].values.reshape(NumberOfSpectra,x_len)[i], name=str(i)),\n",
    "                     row=2, col=1)\n",
    "\n",
    "#Remove the linear background and print the data\n",
    "XPSN=RemoveLinearBackgorund(XPSN, Points=30, NumberOfSpectra=NumberOfSpectra)\n",
    "\n",
    "for i in range (0, NumberOfSpectra):\n",
    "    fig.append_trace(go.Scatter(x=XPSN[\"Binding Energy\"].values.reshape(NumberOfSpectra,x_len)[i], y=XPSN[\"CPS\"].values.reshape(NumberOfSpectra,x_len)[i], name=str(i)),\n",
    "                     row=3, col=1)\n",
    "    \n",
    "fig.update_xaxes(title_text=\"Binding Energy (eV)\", row=3, col=1)\n",
    "fig.update_yaxes(title_text=\"CPS\", row=1, col=1)\n",
    "fig.update_yaxes(title_text=\"CPS\", row=2, col=1)\n",
    "fig.update_yaxes(title_text=\"CPS\", row=3, col=1)\n",
    "    \n",
    "#fig.write_html(FolderTR+\"/\"+\"N\"+\".html\")\n",
    "\n",
    "fig.show()"
   ]
  },
  {
   "cell_type": "code",
   "execution_count": null,
   "metadata": {},
   "outputs": [],
   "source": [
    "#redefine the length of the vectors along the x axis so that the graph works even when masking the data\n",
    "x_len=XPSN.shape[0]//NumberOfSpectra\n",
    "\n",
    "fig = go.Figure(data=go.Heatmap(\n",
    "    z=XPSN[\"CPS\"].values.reshape(NumberOfSpectra,x_len), #reshape the dataframe to form a matrix required for the heatmpa. Each row is a spectrum (CPS)\n",
    "    x=XPSN[\"Binding Energy\"][0:x_len], #add the x-axis scale, it must be as long as the spectra\n",
    "    y=Temperature, #the temperature of the y-axis depends only on the number of spectra\n",
    "    colorscale= 'Jet'))\n",
    "fig.update_layout(xaxis_title='Binding Energy (eV)', yaxis_title='Temperature (°C)',\n",
    "                  xaxis = dict(showexponent ='none'),\n",
    "                  margin=go.layout.Margin(l=0,r=0,b=0,t=0),\n",
    "                  autosize=False, width=600, height=600)\n",
    "\n",
    "fig.update_traces(showscale=False) #hides the colorbar\n",
    "fig.show()\n",
    "fig.write_image(FolderTR+\"/\"+\"N.svg\") #save picture "
   ]
  },
  {
   "cell_type": "markdown",
   "metadata": {},
   "source": [
    "### Br"
   ]
  },
  {
   "cell_type": "code",
   "execution_count": null,
   "metadata": {},
   "outputs": [],
   "source": [
    "FileXPS=\"Br3p\" #Name of the file with XPS Data produced by CasaXPS Sav TAB Ascii\n",
    "DataPerSpectrum=209 #number of rows of each spectrum including the headers\n",
    "NumericDataPerSpectrum=DataPerSpectrum-HeaderColumns #number of rows with the numeric data\n",
    "\n",
    "#Read the XPS data and assign them to a pandas dataframe\n",
    "XPSBr=ReadXPSData(FolderTR, FileXPS, DataPerSpectrum, HeaderColumns)\n",
    "\n",
    "#number of spectra composing the dataset\n",
    "NumberOfSpectra=(XPSBr.shape[0]//NumericDataPerSpectrum)\n",
    "\n",
    "#Add a column to the dataframe corresponding to the initial temperature of the spectrum\n",
    "#XPSN=SetTemperatureColumn(XPSBr, NumberOfSpectra, regression)\n",
    "\n",
    "#prepare a vecture of temperatures for thee heat map. It is as long as the number of spectra and requires the temperature ramp to be computed\n",
    "#Temperature=TemperatureVector(regression, NumberOfSpectra)"
   ]
  },
  {
   "cell_type": "code",
   "execution_count": null,
   "metadata": {},
   "outputs": [],
   "source": [
    "x_len=XPSBr.shape[0]//NumberOfSpectra\n",
    "\n",
    "fig = make_subplots(rows=3, cols=1, subplot_titles=(\"Raw Data\", \"Normalization\", \"Backrgound Subtraction\", \"Again Normalized\"), shared_xaxes=False)\n",
    "\n",
    "for i in range (0, NumberOfSpectra):\n",
    "    fig.append_trace(go.Scatter(x=XPSBr[\"Binding Energy\"].values.reshape(NumberOfSpectra,x_len)[i], y=XPSBr[\"CPS\"].values.reshape(NumberOfSpectra,x_len)[i], name=str(i)),\n",
    "                     row=1, col=1)\n",
    "\n",
    "XPSBr=Normalize(XPSBr,NumberOfSpectra=NumberOfSpectra, NumberOfData=50)\n",
    "\n",
    "for i in range (0, NumberOfSpectra):\n",
    "    fig.append_trace(go.Scatter(x=XPSBr[\"Binding Energy\"].values.reshape(NumberOfSpectra,x_len)[i], y=XPSBr[\"CPS\"].values.reshape(NumberOfSpectra,x_len)[i], name=str(i)),\n",
    "                     row=2, col=1)\n",
    "\n",
    "XPSBr=RemoveLinearBackgorund(XPSBr, Points=50, NumberOfSpectra=NumberOfSpectra)\n",
    "\n",
    "for i in range (0, NumberOfSpectra):\n",
    "    fig.append_trace(go.Scatter(x=XPSBr[\"Binding Energy\"].values.reshape(NumberOfSpectra,x_len)[i], y=XPSBr[\"CPS\"].values.reshape(NumberOfSpectra,x_len)[i], name=str(i)),\n",
    "                     row=3, col=1)\n",
    "fig.update_layout(xaxis_title='Binding Energy (eV)', yaxis_title='CPS')\n",
    "\n",
    "\n",
    "#fig.write_html(FolderTR+\"/\"+\"Br\"+\".html\")\n",
    "\n",
    "fig.show()"
   ]
  },
  {
   "cell_type": "code",
   "execution_count": null,
   "metadata": {},
   "outputs": [],
   "source": [
    "#redefine the length of the vectors along the x axis so that the graph works even when masking the data\n",
    "x_len=XPSBr.shape[0]//NumberOfSpectra\n",
    "\n",
    "fig = go.Figure(data=go.Heatmap(\n",
    "    z=XPSBr[\"CPS\"].values.reshape(NumberOfSpectra,x_len), #reshape the dataframe to form a matrix required for the heatmpa. Each row is a spectrum (CPS)\n",
    "    x=XPSBr[\"Binding Energy\"][0:x_len], #add the x-axis scale, it must be as long as the spectra\n",
    "    y=Temperature, #the temperature of the y-axis depends only on the number of spectra\n",
    "    colorscale= 'Jet'))\n",
    "fig.update_layout(xaxis_title='Binding Energy (eV)', yaxis_title='Temperature (°C)',\n",
    "                  xaxis = dict(showexponent ='none'),\n",
    "                  margin=go.layout.Margin(l=0,r=0,b=0,t=0),\n",
    "                  autosize=False, width=600, height=600)\n",
    "\n",
    "fig.update_traces(showscale=False) #hides the colorbar\n",
    "fig.show()\n",
    "fig.write_image(FolderTR+\"/\"+\"Br.svg\") #save picture "
   ]
  },
  {
   "cell_type": "markdown",
   "metadata": {},
   "source": [
    "# Leo's Data"
   ]
  },
  {
   "cell_type": "markdown",
   "metadata": {},
   "source": [
    "## Temperature Ramp"
   ]
  },
  {
   "cell_type": "code",
   "execution_count": null,
   "metadata": {},
   "outputs": [],
   "source": [
    "FolderTR=\"C:/Users/quadrell/OneDrive - Lancaster University/PhD Project/Data/XPS/LeoTPXPS\" #Folder of the Temperature ramp\n",
    "FileTR=\"Datalog_ZnTPP_Au111_TP_2\" #File of the temperature ramp\n",
    "#Prepare the pandas dataframe with the data\n",
    "TemperatureRamp = ReadTemperatureData(FolderTR,FileTR)\n",
    "#Transform the time in hours\n",
    "AdjustTime(TemperatureRamp, unit=24) #24 means 24 hours\n",
    "#Fit the temperature data\n",
    "Mask= TemperatureRamp['Temperature'] <= 250\n",
    "regression = stats.linregress(TemperatureRamp['Time'][Mask], TemperatureRamp['Temperature'][Mask])"
   ]
  },
  {
   "cell_type": "code",
   "execution_count": null,
   "metadata": {},
   "outputs": [],
   "source": [
    "#plot the temperature ramp, fit and setpoint\n",
    "fig = go.Figure()\n",
    "fig.add_trace(go.Scatter(x=TemperatureRamp['Time'], y=TemperatureRamp['Temperature'], name=\"Ramp Data\", mode='markers'))\n",
    "fig.add_trace(go.Scatter(x=TemperatureRamp['Time'][Mask], y=TemperatureRamp['Time'][Mask]*regression.slope+regression.intercept, name=\"Ramp Fit\", mode='lines'))\n",
    "fig.add_trace(go.Scatter(x=TemperatureRamp['Time'], y=TemperatureRamp['Setpoint'], name=\"Setpoint\"))\n",
    "fig.update_layout(xaxis_title='Time (h)', yaxis_title='Temperature (°C)')\n",
    "fig.show()"
   ]
  },
  {
   "cell_type": "markdown",
   "metadata": {},
   "source": [
    "## Br"
   ]
  },
  {
   "cell_type": "code",
   "execution_count": null,
   "metadata": {},
   "outputs": [],
   "source": [
    "HeaderColumns=8 #number of columns comprising the headers\n",
    "FileXPS=\"LeoBr\" #Name of the file with XPS Data produced by CasaXPS Sav TAB Ascii\n",
    "DataPerSpectrum=489 #number of rows of each spectrum including the headers\n",
    "NumericDataPerSpectrum=DataPerSpectrum-HeaderColumns #number of rows with the numeric data\n",
    "\n",
    "#Read the XPS data and assign them to a pandas dataframe\n",
    "XPSBr=ReadXPSData(FolderTR, FileXPS, DataPerSpectrum, HeaderColumns)\n",
    "\n",
    "#number of spectra composing the dataset\n",
    "NumberOfSpectra=(XPSBr.shape[0]//NumericDataPerSpectrum)\n",
    "\n",
    "#Add a column to the dataframe corresponding to the initial temperature of the spectrum\n",
    "#XPSN=SetTemperatureColumn(XPSBr, NumberOfSpectra, regression)\n",
    "\n",
    "#prepare a vecture of temperatures for thee heat map. It is as long as the number of spectra and requires the temperature ramp to be computed\n",
    "Temperature=TemperatureVector(regression, time=TemperatureRamp['Time'][Mask], NumberOfSpectra=NumberOfSpectra)"
   ]
  },
  {
   "cell_type": "code",
   "execution_count": null,
   "metadata": {},
   "outputs": [],
   "source": [
    "x_len=XPSBr.shape[0]//NumberOfSpectra\n",
    "\n",
    "#Print 3 subplot to show each stage of the manipulation: rwad data, normalization and linear background subtraction\n",
    "fig = make_subplots(rows=3, cols=1, shared_xaxes=True, vertical_spacing = 0.01)\n",
    "\n",
    "#Print the traces of the raw data\n",
    "for i in range (0, NumberOfSpectra):\n",
    "    fig.append_trace(go.Scatter(x=XPSBr[\"Binding Energy\"].values.reshape(NumberOfSpectra,x_len)[i], y=XPSBr[\"CPS\"].values.reshape(NumberOfSpectra,x_len)[i], name=str(i)),\n",
    "                     row=1, col=1)\n",
    "\n",
    "#Normalize and print the data. ALl the traces should cross the horizintal line in the same point\n",
    "XPSBr=Normalize(XPSBr,NumberOfSpectra=NumberOfSpectra, NumberOfData=50)\n",
    "\n",
    "for i in range (0, NumberOfSpectra):\n",
    "    fig.append_trace(go.Scatter(x=XPSBr[\"Binding Energy\"].values.reshape(NumberOfSpectra,x_len)[i], y=XPSBr[\"CPS\"].values.reshape(NumberOfSpectra,x_len)[i], name=str(i)),\n",
    "                     row=2, col=1)\n",
    "\n",
    "#Remove the linear background and print the data\n",
    "XPSBr=RemoveLinearBackgorund(XPSBr, Points=30, NumberOfSpectra=NumberOfSpectra)\n",
    "\n",
    "for i in range (0, NumberOfSpectra):\n",
    "    fig.append_trace(go.Scatter(x=XPSBr[\"Binding Energy\"].values.reshape(NumberOfSpectra,x_len)[i], y=XPSBr[\"CPS\"].values.reshape(NumberOfSpectra,x_len)[i], name=str(i)),\n",
    "                     row=3, col=1)\n",
    "    \n",
    "fig.update_xaxes(title_text=\"Binding Energy (eV)\", row=3, col=1)\n",
    "fig.update_yaxes(title_text=\"CPS\", row=1, col=1)\n",
    "fig.update_yaxes(title_text=\"CPS\", row=2, col=1)\n",
    "fig.update_yaxes(title_text=\"CPS\", row=3, col=1)\n",
    "    \n",
    "#fig.write_html(FolderTR+\"/\"+\"Br\"+\".html\")\n",
    "\n",
    "fig.show()"
   ]
  },
  {
   "cell_type": "code",
   "execution_count": null,
   "metadata": {},
   "outputs": [],
   "source": [
    "#redefine the length of the vectors along the x axis so that the graph works even when masking the data\n",
    "x_len=XPSBr.shape[0]//NumberOfSpectra\n",
    "\n",
    "fig = go.Figure(data=go.Heatmap(\n",
    "    z=XPSBr[\"CPS\"].values.reshape(NumberOfSpectra,x_len), #reshape the dataframe to form a matrix required for the heatmpa. Each row is a spectrum (CPS)\n",
    "    x=XPSBr[\"Binding Energy\"][0:x_len], #add the x-axis scale, it must be as long as the spectra\n",
    "    y=Temperature, #the temperature of the y-axis depends only on the number of spectra\n",
    "    colorscale= 'Jet'))\n",
    "fig.update_layout(xaxis_title='Binding Energy (eV)', yaxis_title='Temperature (°C)',\n",
    "                  xaxis = dict(showexponent ='none'),\n",
    "                  margin=go.layout.Margin(l=0,r=0,b=0,t=0),\n",
    "                  autosize=False, width=600, height=600)\n",
    "\n",
    "fig.update_traces(showscale=False) #hides the colorbar\n",
    "fig.show()\n",
    "fig.write_image(FolderTR+\"/\"+\"Br.svg\") #save picture "
   ]
  }
 ],
 "metadata": {
  "kernelspec": {
   "display_name": "Python 3",
   "language": "python",
   "name": "python3"
  },
  "language_info": {
   "codemirror_mode": {
    "name": "ipython",
    "version": 3
   },
   "file_extension": ".py",
   "mimetype": "text/x-python",
   "name": "python",
   "nbconvert_exporter": "python",
   "pygments_lexer": "ipython3",
   "version": "3.8.5"
  },
  "toc": {
   "base_numbering": 1,
   "nav_menu": {},
   "number_sections": true,
   "sideBar": true,
   "skip_h1_title": false,
   "title_cell": "Table of Contents",
   "title_sidebar": "Contents",
   "toc_cell": false,
   "toc_position": {
    "height": "calc(100% - 180px)",
    "left": "10px",
    "top": "150px",
    "width": "177px"
   },
   "toc_section_display": true,
   "toc_window_display": true
  },
  "varInspector": {
   "cols": {
    "lenName": 16,
    "lenType": 16,
    "lenVar": 40
   },
   "kernels_config": {
    "python": {
     "delete_cmd_postfix": "",
     "delete_cmd_prefix": "del ",
     "library": "var_list.py",
     "varRefreshCmd": "print(var_dic_list())"
    },
    "r": {
     "delete_cmd_postfix": ") ",
     "delete_cmd_prefix": "rm(",
     "library": "var_list.r",
     "varRefreshCmd": "cat(var_dic_list()) "
    }
   },
   "types_to_exclude": [
    "module",
    "function",
    "builtin_function_or_method",
    "instance",
    "_Feature"
   ],
   "window_display": false
  }
 },
 "nbformat": 4,
 "nbformat_minor": 4
}
